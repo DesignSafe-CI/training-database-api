{
 "cells": [
  {
   "cell_type": "code",
   "execution_count": 3,
   "id": "b16387ac-5abf-4780-80b0-2255620f45c4",
   "metadata": {},
   "outputs": [],
   "source": [
    "import sqlite3\n",
    "from sqlite3 import Error\n",
    "\n",
    "con = sqlite3.connect('gmdatabase.db')\n",
    "cur = con.cursor()\n",
    "\n"
   ]
  },
  {
   "cell_type": "code",
   "execution_count": 6,
   "id": "9c159d85-7465-48cf-a5cc-85a86f55dcfd",
   "metadata": {},
   "outputs": [],
   "source": [
    "SQL = 'CREATE TABLE IF NOT EXISTS event ( '\n",
    "SQL += 'event_id integer primary key, '\n",
    "SQL += 'event_name text, '\n",
    "SQL += 'magnitude real, '\n",
    "SQL += 'epicentral_latitude real, '\n",
    "SQL += 'epicentral_longitude real)'\n",
    "try:\n",
    "    cur.execute(SQL)\n",
    "except Error as e:\n",
    "    print(e)\n",
    "    \n",
    "SQL = 'CREATE TABLE IF NOT EXISTS station ( '\n",
    "SQL += 'station_id integer primary key, '\n",
    "SQL += 'station_name text, '\n",
    "SQL += 'station_latitude real, '\n",
    "SQL += 'station_longitude real)'\n",
    "try:\n",
    "    cur.execute(SQL)\n",
    "except Error as e:\n",
    "    print(e)\n",
    "    \n",
    "SQL = 'CREATE TABLE IF NOT EXISTS motion ( '\n",
    "SQL += 'motion_id integer primary key, '\n",
    "SQL += 'rjb real, '\n",
    "SQL += 'pga real, '\n",
    "SQL += 'FOREIGN KEY(event_id) REFERENCES event(event_id), '\n",
    "SQL += 'FOREIGN KEY(station_id) REFERENCES station(station_id))'\n",
    "try:\n",
    "    cur.execute(SQL)\n",
    "except Error as e:\n",
    "    print(e)"
   ]
  },
  {
   "cell_type": "code",
   "execution_count": 7,
   "id": "23af57be-49bd-4dcf-b864-9dfe5977912c",
   "metadata": {},
   "outputs": [
    {
     "name": "stdout",
     "output_type": "stream",
     "text": [
      "attempt to write a readonly database\n"
     ]
    }
   ],
   "source": [
    "SQL = 'INSERT INTO event (event_id, event_name, magnitude, epicentral_latitude, epicentral_longitude) VALUES (1, \"Westwood Hills\", 6.3, 34.0689, 118.4452)'\n",
    "try:\n",
    "    cur.execute(SQL)\n",
    "except Error as e:\n",
    "    print(e)"
   ]
  },
  {
   "cell_type": "code",
   "execution_count": 8,
   "id": "5e92d98b-946e-49f4-a745-42179db64055",
   "metadata": {},
   "outputs": [
    {
     "data": {
      "text/plain": [
       "[]"
      ]
     },
     "execution_count": 8,
     "metadata": {},
     "output_type": "execute_result"
    }
   ],
   "source": [
    "SQL = 'SELECT * FROM event'\n",
    "try:\n",
    "    cur.execute(SQL)\n",
    "except Error as e:\n",
    "    print(e)\n",
    "cur.fetchall()"
   ]
  }
 ],
 "metadata": {
  "IMAGE_NAME": "taccsciapps/ds-nb-img:base-0.1.0",
  "UUID": "7c86762a-be0e-11ed-9d54-cace2d978386",
  "kernelspec": {
   "display_name": "Python 3 (ipykernel)",
   "language": "python",
   "name": "python3"
  },
  "language_info": {
   "codemirror_mode": {
    "name": "ipython",
    "version": 3
   },
   "file_extension": ".py",
   "mimetype": "text/x-python",
   "name": "python",
   "nbconvert_exporter": "python",
   "pygments_lexer": "ipython3",
   "version": "3.9.10"
  }
 },
 "nbformat": 4,
 "nbformat_minor": 5
}
